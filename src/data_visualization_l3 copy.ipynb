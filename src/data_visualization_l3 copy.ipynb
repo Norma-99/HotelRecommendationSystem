{
 "cells": [
  {
   "cell_type": "markdown",
   "metadata": {},
   "source": [
    "# L3 Data Visualization Notebook\n",
    "\n",
    "This report comprises the entire Data Visualization of the L3 data (Level 3 Data)  of the Hotel Recommendation system built. "
   ]
  },
  {
   "cell_type": "code",
   "execution_count": null,
   "metadata": {},
   "outputs": [],
   "source": [
    "import pandas as pd\n",
    "import matplotlib.pyplot as plt\n",
    "import seaborn as sns\n",
    "from io import StringIO\n",
    "import boto3"
   ]
  },
  {
   "cell_type": "code",
   "execution_count": null,
   "metadata": {},
   "outputs": [],
   "source": [
    "# Set up boto3 client (this step is optional and not necessary for using s3fs directly)\n",
    "s3_client = boto3.client('s3', region_name='us-west-2')\n",
    "\n",
    "# Define bucket and object key\n",
    "bucket_name = 'andorra-hotels-data-warehouse'\n",
    "object_key = 'l3_data/text/lsth.parquet'\n",
    "\n",
    "# Construct the S3 file path\n",
    "s3_file_path = f's3://{bucket_name}/{object_key}'\n",
    "\n",
    "# Load the Parquet file into a pandas DataFrame\n",
    "df = pd.read_parquet(s3_file_path, engine='pyarrow', storage_options={'anon': False})\n",
    "\n",
    "# Display the first few rows of the DataFrame\n",
    "df_head = df.head()\n",
    "df_head.style.hide()"
   ]
  },
  {
   "cell_type": "markdown",
   "metadata": {},
   "source": [
    "## 1. NLP: Review Text Features\n",
    "\n",
    "The plot that visualizes the distribution of values for each feature extracted from the `review_text_features` column in the dataset. \n",
    "Each subplot represents the distribution of one of the features across all reviews, showing how frequently each value occurs."
   ]
  },
  {
   "cell_type": "code",
   "execution_count": null,
   "metadata": {},
   "outputs": [],
   "source": [
    "# Extract the review text features\n",
    "def extract_review_text_features(row):\n",
    "    try:\n",
    "        features = row['review_text_features']\n",
    "        return features['values']\n",
    "    except (TypeError, KeyError):\n",
    "        return []\n",
    "\n",
    "df['review_text_values'] = df.apply(extract_review_text_features, axis=1)\n",
    "\n",
    "# Create a DataFrame for review text features\n",
    "review_text_df = pd.DataFrame(df['review_text_values'].tolist())\n",
    "\n",
    "# Plot the distribution of each feature\n",
    "if not review_text_df.empty:\n",
    "    num_features = review_text_df.shape[1]\n",
    "    num_cols = 4\n",
    "    num_rows = (num_features // num_cols) + 1\n",
    "\n",
    "    fig, axes = plt.subplots(num_rows, num_cols, figsize=(15, 10))\n",
    "\n",
    "    # Flatten axes for easy iteration\n",
    "    axes = axes.flatten()\n",
    "\n",
    "    for i, column in enumerate(review_text_df.columns):\n",
    "        sns.histplot(review_text_df[column], bins=20, kde=True, ax=axes[i])\n",
    "        axes[i].set_title(f'Feature {i+1}')\n",
    "        axes[i].set_xlabel('Value')\n",
    "        axes[i].set_ylabel('Frequency')\n",
    "\n",
    "    # Remove empty subplots\n",
    "    for j in range(i+1, len(axes)):\n",
    "        fig.delaxes(axes[j])\n",
    "\n",
    "    plt.tight_layout()\n",
    "    plt.show()\n",
    "else:\n",
    "    print(\"No data available in review_text_df\")"
   ]
  }
 ],
 "metadata": {
  "kernelspec": {
   "display_name": "Python 3",
   "language": "python",
   "name": "python3"
  },
  "language_info": {
   "name": "python",
   "version": "3.8.10"
  }
 },
 "nbformat": 4,
 "nbformat_minor": 2
}
