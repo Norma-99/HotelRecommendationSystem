{
 "cells": [
  {
   "cell_type": "markdown",
   "metadata": {},
   "source": [
    "# L1 Data Visualization Notebook\n",
    "\n",
    "This Report comprises the entire Data Visualization of the L1 data (Level 1 Data) of the Hotel Recommendation System built. "
   ]
  },
  {
   "cell_type": "code",
   "execution_count": 109,
   "metadata": {},
   "outputs": [],
   "source": [
    "import boto3\n",
    "import pandas as pd\n",
    "import matplotlib.pyplot as plt\n",
    "from wordcloud import WordCloud\n",
    "from textblob import TextBlob\n",
    "from io import StringIO\n",
    "import plotly.graph_objects as go\n",
    "import plotly.express as px\n",
    "from plotly.subplots import make_subplots\n",
    "from datetime import datetime, timedelta\n",
    "import colorlover as cl\n",
    "import plotly.io as pio\n",
    "from IPython.display import Image, display, HTML\n"
   ]
  },
  {
   "cell_type": "code",
   "execution_count": 110,
   "metadata": {},
   "outputs": [],
   "source": [
    "# Generate a custom color palette with 15 shades of blue\n",
    "cp = cl.scales['9']['seq']['Blues']\n",
    "color_palette = cl.interp(cp, 15)"
   ]
  },
  {
   "cell_type": "code",
   "execution_count": 111,
   "metadata": {},
   "outputs": [],
   "source": [
    "CATEGORY = \"L1\"\n",
    "CONTENT_SAVE_PATH = \"../visualization_site/content/\"\n",
    "IMAGE_SAVE_PATH = CONTENT_SAVE_PATH + \"images/\"\n",
    "\n",
    "class Article:\n",
    "    _ids = {}\n",
    "    def __init__(self, category:str = CATEGORY):\n",
    "        self.category = category\n",
    "        if category in Article._ids:\n",
    "            Article._ids[category] += 1\n",
    "        else:\n",
    "            Article._ids[category] = 0\n",
    "        self.id = Article._ids[category]\n",
    "        self.title = \"\"\n",
    "        self.body = \"\"\n",
    "        self.img = []\n",
    "    \n",
    "    def get_uid(self):\n",
    "        return f\"{self.category}_{self.id:02d}\"\n",
    "    \n",
    "    def add_img(self, filename):\n",
    "        self.img.append(filename)\n",
    "\n",
    "    @staticmethod \n",
    "    def md_title_only(string):\n",
    "        return \"<h1 class=\\\"entry-title\\\">\" + string + \"</h1>\"\n",
    "\n",
    "    @staticmethod \n",
    "    def md_img_str(filename):\n",
    "        return f\"![](../images/{filename})\"\n",
    "\n",
    "    @staticmethod \n",
    "    def md_tab_str(tab):\n",
    "        return tab.to_markdown()\n",
    "\n",
    "    def export(self):\n",
    "        title_str = f\"Title: {self.title}\\n\"\n",
    "        date_str = f\"Date: 2024-10-11 00:{(59-self.id):02d}\\n\" \n",
    "        category_str = f\"Category: {self.category}\\n\"\n",
    "        content_str = \"\\n\" + self.body + \"\\n\"\n",
    "\n",
    "        images_str = \"\\n\"\n",
    "        for filename in self.img:\n",
    "            images_str += f\"{self.md_img_str(filename)}\\n\"\n",
    "        images_str += \"\\n\"\n",
    "        \n",
    "        # markdown_str = title_str + date_str + category_str + images_str + content_str\n",
    "        markdown_str = title_str + date_str + category_str + content_str + images_str\n",
    "\n",
    "        with open(f\"{CONTENT_SAVE_PATH}{self.get_uid()}.md\", \"w\", encoding=\"utf-8\") as text_file:\n",
    "            print(markdown_str, file=text_file)\n",
    "        return markdown_str\n"
   ]
  },
  {
   "cell_type": "markdown",
   "metadata": {},
   "source": [
    "## Loading the dataset\n",
    "\n",
    "First we should download the L1 CSV file from the S3 bucket and load it into a Pandas DataFrame. "
   ]
  },
  {
   "cell_type": "code",
   "execution_count": 112,
   "metadata": {},
   "outputs": [],
   "source": [
    "# Set up boto3 client\n",
    "s3_client = boto3.client('s3', region_name='us-west-2')\n",
    "\n",
    "# Define bucket and object key\n",
    "bucket_name = 'andorra-hotels-data-warehouse'\n",
    "object_key = 'l1_data/text/l1_data_2024-07-21_16-33-02.csv'\n",
    "\n",
    "# Get the object from S3\n",
    "response = s3_client.get_object(Bucket=bucket_name, Key=object_key)\n",
    "\n",
    "# Read the data into a DataFrame\n",
    "df = pd.read_csv(StringIO(response['Body'].read().decode('utf-8')))\n",
    "\n",
    "# Display the first few rows of the DataFrame as a pretty table\n",
    "df_head = df.head()"
   ]
  },
  {
   "cell_type": "code",
   "execution_count": 113,
   "metadata": {},
   "outputs": [],
   "source": [
    "# df_head.style.hide()"
   ]
  },
  {
   "cell_type": "markdown",
   "metadata": {},
   "source": [
    "## Basic data information\n",
    "\n",
    "We will now display the dataset characteristics and information"
   ]
  },
  {
   "cell_type": "code",
   "execution_count": 114,
   "metadata": {},
   "outputs": [
    {
     "name": "stdout",
     "output_type": "stream",
     "text": [
      "Total number of samples: 31875\n"
     ]
    }
   ],
   "source": [
    "# Print the total number of samples\n",
    "total_samples = len(df)\n",
    "print(f\"Total number of samples: {total_samples}\")"
   ]
  },
  {
   "cell_type": "code",
   "execution_count": 115,
   "metadata": {},
   "outputs": [
    {
     "data": {
      "text/html": [
       "<style type=\"text/css\">\n",
       "</style>\n",
       "<table id=\"T_2bb03\">\n",
       "  <thead>\n",
       "    <tr>\n",
       "      <th id=\"T_2bb03_level0_col0\" class=\"col_heading level0 col0\" >region</th>\n",
       "      <th id=\"T_2bb03_level0_col1\" class=\"col_heading level0 col1\" >number_of_samples</th>\n",
       "      <th id=\"T_2bb03_level0_col2\" class=\"col_heading level0 col2\" >number_of_unique_hotels</th>\n",
       "    </tr>\n",
       "  </thead>\n",
       "  <tbody>\n",
       "    <tr>\n",
       "      <td id=\"T_2bb03_row0_col0\" class=\"data row0 col0\" >Andorra la Vella</td>\n",
       "      <td id=\"T_2bb03_row0_col1\" class=\"data row0 col1\" >5000</td>\n",
       "      <td id=\"T_2bb03_row0_col2\" class=\"data row0 col2\" >50</td>\n",
       "    </tr>\n",
       "    <tr>\n",
       "      <td id=\"T_2bb03_row1_col0\" class=\"data row1 col0\" >Canillo</td>\n",
       "      <td id=\"T_2bb03_row1_col1\" class=\"data row1 col1\" >3879</td>\n",
       "      <td id=\"T_2bb03_row1_col2\" class=\"data row1 col2\" >47</td>\n",
       "    </tr>\n",
       "    <tr>\n",
       "      <td id=\"T_2bb03_row2_col0\" class=\"data row2 col0\" >Encamp</td>\n",
       "      <td id=\"T_2bb03_row2_col1\" class=\"data row2 col1\" >4178</td>\n",
       "      <td id=\"T_2bb03_row2_col2\" class=\"data row2 col2\" >50</td>\n",
       "    </tr>\n",
       "    <tr>\n",
       "      <td id=\"T_2bb03_row3_col0\" class=\"data row3 col0\" >Escaldes-Engordany</td>\n",
       "      <td id=\"T_2bb03_row3_col1\" class=\"data row3 col1\" >4792</td>\n",
       "      <td id=\"T_2bb03_row3_col2\" class=\"data row3 col2\" >49</td>\n",
       "    </tr>\n",
       "    <tr>\n",
       "      <td id=\"T_2bb03_row4_col0\" class=\"data row4 col0\" >La Massana</td>\n",
       "      <td id=\"T_2bb03_row4_col1\" class=\"data row4 col1\" >4557</td>\n",
       "      <td id=\"T_2bb03_row4_col2\" class=\"data row4 col2\" >49</td>\n",
       "    </tr>\n",
       "    <tr>\n",
       "      <td id=\"T_2bb03_row5_col0\" class=\"data row5 col0\" >Ordino</td>\n",
       "      <td id=\"T_2bb03_row5_col1\" class=\"data row5 col1\" >4836</td>\n",
       "      <td id=\"T_2bb03_row5_col2\" class=\"data row5 col2\" >50</td>\n",
       "    </tr>\n",
       "    <tr>\n",
       "      <td id=\"T_2bb03_row6_col0\" class=\"data row6 col0\" >Sant Julià de Lòria</td>\n",
       "      <td id=\"T_2bb03_row6_col1\" class=\"data row6 col1\" >4633</td>\n",
       "      <td id=\"T_2bb03_row6_col2\" class=\"data row6 col2\" >50</td>\n",
       "    </tr>\n",
       "  </tbody>\n",
       "</table>\n"
      ],
      "text/plain": [
       "<pandas.io.formats.style.Styler at 0x28e80326e10>"
      ]
     },
     "execution_count": 115,
     "metadata": {},
     "output_type": "execute_result"
    }
   ],
   "source": [
    "# Print the total of samples by region \n",
    "# Print the total of hotels by region\n",
    "# Group by 'region' and calculate the number of samples and number of unique hotels per region\n",
    "region_summary = df.groupby('region').agg(\n",
    "    number_of_samples=('region', 'size'),\n",
    "    number_of_unique_hotels=('hotel_name', 'nunique')\n",
    ").reset_index()\n",
    "\n",
    "article = Article()\n",
    "article.title = Article.md_title_only(\"Basic data information\")\n",
    "article.body = \"We will now display the dataset characteristics and information\"\n",
    "article.body += \"\\n\\n Total number of samples: \" + str(len(df))\n",
    "article.body += \"\\n\\n\" + region_summary.to_markdown()\n",
    "article.export()\n",
    "# Display the new dataframe\n",
    "region_summary.style.hide()\n",
    "\n"
   ]
  },
  {
   "cell_type": "markdown",
   "metadata": {},
   "source": [
    "## 1. Distribution of Ratings\n",
    "\n",
    "### 1.1. Histogram of Ratings\n",
    "\n",
    "Visualize the distribution of Hotel ratings"
   ]
  },
  {
   "cell_type": "code",
   "execution_count": 116,
   "metadata": {},
   "outputs": [
    {
     "data": {
      "text/plain": [
       "'Title: 1.1 Histogram of Ratings\\nDate: 2024-10-11 00:57\\nCategory: L1\\n\\nVisualize the distribution of Hotel Ratings\\n\\n![](../images/L1_02.png)\\n\\n\\n'"
      ]
     },
     "execution_count": 116,
     "metadata": {},
     "output_type": "execute_result"
    }
   ],
   "source": [
    "# Assuming df is already defined\n",
    "# Plot histogram of ratings with Plotly\n",
    "hist_data = df['rating'].value_counts().sort_index()\n",
    "fig_hist = go.Figure(data=[go.Bar(\n",
    "        x=hist_data.index,\n",
    "        y=hist_data.values,\n",
    "        marker_color='#636EFA'  # Example color\n",
    "    )])\n",
    "fig_hist.update_layout(\n",
    "    title_x=0.5,\n",
    "    xaxis_title='Rating',\n",
    "    yaxis_title='Frequency',\n",
    "    plot_bgcolor='rgba(0,0,0,0)',\n",
    "    paper_bgcolor='rgba(0,0,0,0)',\n",
    "    font=dict(\n",
    "        family=\"Arial, sans-serif\",\n",
    "        size=16,\n",
    "        color=\"#000000\"\n",
    "    ),\n",
    "    height=400,  # Adjust the height as needed\n",
    "    width=600   # Adjust the width as needed\n",
    ")\n",
    "\n",
    "# Define the bins and labels\n",
    "bins = [2, 2.5, 3, 3.5, 4, 4.5, 5]\n",
    "labels = ['2-2.5', '2.6-3', '3.1-3.5', '3.6-4', '4.1-4.5', '4.6-5']\n",
    "\n",
    "# Create a new column for the binned ratings\n",
    "df['rating_bin'] = pd.cut(df['rating'], bins=bins, labels=labels, include_lowest=True)\n",
    "\n",
    "# Create a table with the binned ratings and their frequencies\n",
    "ratings_count = df['rating_bin'].value_counts().reset_index()\n",
    "ratings_count.columns = ['Rating Range', 'Number of Ratings']\n",
    "ratings_count = ratings_count.sort_values('Rating Range')\n",
    "\n",
    "# Save the histogram as a static image with transparent background\n",
    "\n",
    "article = Article()\n",
    "article.title = Article.md_title_only(\"1. Distribution of Ratings\")\n",
    "article.export()\n",
    "\n",
    "article = Article()\n",
    "article.title = \"1.1 Histogram of Ratings\"\n",
    "article.body = \"Visualize the distribution of Hotel Ratings\"\n",
    "imgname = article.get_uid() + \".png\"\n",
    "pio.write_image(fig_hist, IMAGE_SAVE_PATH + imgname, scale=2, format='png', engine='kaleido')\n",
    "article.body += \"\\n\\n\" + Article.md_img_str(imgname)\n",
    "article.export()\n"
   ]
  },
  {
   "cell_type": "markdown",
   "metadata": {},
   "source": [
    "### 1.2. Average Rating per region\n",
    "\n",
    "Bar chart showing the average rating of hotels in each region."
   ]
  },
  {
   "cell_type": "code",
   "execution_count": 117,
   "metadata": {},
   "outputs": [
    {
     "data": {
      "text/plain": [
       "'Title: 1.2. Average Rating per region\\nDate: 2024-10-11 00:56\\nCategory: L1\\n\\nBar chart showing the average rating of hotels in each region.\\n\\n![](../images/L1_03.png)\\n\\n|    | Region              |   Average Rating |\\n|---:|:--------------------|-----------------:|\\n|  0 | Sant Julià de Lòria |          4.06803 |\\n|  1 | Andorra la Vella    |          4.11    |\\n|  2 | Escaldes-Engordany  |          4.14508 |\\n|  3 | Encamp              |          4.22039 |\\n|  4 | Ordino              |          4.24735 |\\n|  5 | La Massana          |          4.25774 |\\n|  6 | Canillo             |          4.30923 |\\n\\n\\n'"
      ]
     },
     "execution_count": 117,
     "metadata": {},
     "output_type": "execute_result"
    }
   ],
   "source": [
    "# Calculate average rating per region\n",
    "avg_rating_per_region = df.groupby('region')['rating'].mean().sort_values()\n",
    "\n",
    "# Plot average rating per region with Plotly\n",
    "fig_avg_rating = go.Figure(data=[go.Bar(\n",
    "    x=avg_rating_per_region.index,\n",
    "    y=avg_rating_per_region.values,\n",
    "    marker_color=color_palette[5:]\n",
    ")])\n",
    "\n",
    "fig_avg_rating.update_layout(\n",
    "    # title_text='Average Hotel Rating per Region',\n",
    "    title_x=0.5,\n",
    "    xaxis_title='Region',\n",
    "    yaxis_title='Average Rating',\n",
    "    plot_bgcolor='rgba(0,0,0,0)',\n",
    "    paper_bgcolor='rgba(0,0,0,0)',\n",
    "    font=dict(\n",
    "        family=\"Arial, sans-serif\",\n",
    "        size=12,\n",
    "        color=\"#000000\"\n",
    "    ),\n",
    "    xaxis_tickangle=-45\n",
    ")\n",
    "\n",
    "# Save the figure as a static image with transparent background\n",
    "# pio.write_image(fig_hist, '../plots/1_2_plot.png', scale=2, format='png', engine='kaleido')\n",
    "\n",
    "# Create a table with the average ratings per region\n",
    "avg_rating_df = avg_rating_per_region.reset_index()\n",
    "avg_rating_df.columns = ['Region', 'Average Rating']\n",
    "\n",
    "# # Define the HTML template to display the image and the table side by side\n",
    "# html_template = '''\n",
    "# <div style=\"display: flex; align-items: center;\">\n",
    "#     <div style=\"flex: 1;\">\n",
    "#         <img src=\"{img_path}\" width=\"{img_width}\" height=\"{img_height}\">\n",
    "#     </div>\n",
    "#     <div style=\"flex: 1; padding-left: 20px;\">\n",
    "#         {table}\n",
    "#     </div>\n",
    "# </div>\n",
    "# '''\n",
    "\n",
    "# # Generate the HTML content\n",
    "# html_content = html_template.format(\n",
    "#     img_path='../plots/1_2_plot.png',\n",
    "#     img_width=800,  # Adjust the width and height as needed\n",
    "#     img_height=400,\n",
    "#     table=avg_rating_df.to_html(index=False)\n",
    "# )\n",
    "\n",
    "# # Display the content\n",
    "# display(HTML(html_content))\n",
    "\n",
    "article = Article()\n",
    "article.title = \"1.2. Average Rating per region\"\n",
    "article.body = \"Bar chart showing the average rating of hotels in each region.\"\n",
    "imgname = article.get_uid() + \".png\"\n",
    "pio.write_image(fig_hist, IMAGE_SAVE_PATH + imgname, scale=2, format='png', engine='kaleido')\n",
    "article.body += \"\\n\\n\" + Article.md_img_str(imgname)\n",
    "article.body += \"\\n\\n\" + Article.md_tab_str(avg_rating_df)\n",
    "\n",
    "article.export()"
   ]
  },
  {
   "cell_type": "markdown",
   "metadata": {},
   "source": [
    "## 2. Reviews Analysis\n",
    "\n",
    "### 2.1. Number of Reviews per hotel\n",
    "\n",
    "Bar chart showing the total number of reviews for each hotel."
   ]
  },
  {
   "cell_type": "code",
   "execution_count": 118,
   "metadata": {},
   "outputs": [
    {
     "data": {
      "text/plain": [
       "'Title: 2.1. Number of Reviews per hotel\\nDate: 2024-10-11 00:54\\nCategory: L1\\n\\nBar chart showing the total number of reviews for each hotel.\\n\\n![](../images/L1_05.png)\\n\\n\\n'"
      ]
     },
     "execution_count": 118,
     "metadata": {},
     "output_type": "execute_result"
    }
   ],
   "source": [
    "# Create a table with the average number of ratings per region\n",
    "avg_ratings_per_region = df.groupby('region')['user_ratings_total'].mean().reset_index()\n",
    "avg_ratings_per_region.columns = ['Region', 'Average Number of Ratings']\n",
    "\n",
    "#  Get the list of regions\n",
    "regions = df['region'].unique()\n",
    "\n",
    "# Create subplots with adjusted spacing\n",
    "fig = make_subplots(rows=4, cols=2, subplot_titles=regions, horizontal_spacing=0.2, vertical_spacing=0.17)\n",
    "\n",
    "# Plot the number of reviews per hotel for each region using user_ratings_total\n",
    "for i, region in enumerate(regions):\n",
    "    region_df = df[df['region'] == region]\n",
    "    reviews_per_hotel = region_df.groupby('hotel_name')['user_ratings_total'].sum().sort_values(ascending=False)\n",
    "    \n",
    "    row = i // 2 + 1\n",
    "    col = i % 2 + 1\n",
    "    \n",
    "    fig.add_trace(\n",
    "        go.Bar(\n",
    "            x=reviews_per_hotel.index,\n",
    "            y=reviews_per_hotel.values,\n",
    "            marker_color='#1f77b4',\n",
    "            name=region\n",
    "        ),\n",
    "        row=row, col=col\n",
    "    )\n",
    "    \n",
    "    fig.update_xaxes(title_text='Hotel Name', row=row, col=col, tickangle=45)\n",
    "    fig.update_yaxes(title_text='Number of Reviews', row=row, col=col)\n",
    "\n",
    "# Update layout\n",
    "fig.update_layout(\n",
    "    height=2400, width=1200,\n",
    "    # title_text='Number of Reviews per Hotel by Region',\n",
    "    showlegend=False,\n",
    "    plot_bgcolor='rgba(0,0,0,0)',\n",
    "    paper_bgcolor='rgba(0,0,0,0)',\n",
    "    font=dict(\n",
    "        family=\"Arial, sans-serif\",\n",
    "        size=12,\n",
    "        color=\"#000000\"\n",
    "    )\n",
    ")\n",
    "\n",
    "# Save the figure as a static image with transparent background\n",
    "# pio.write_image(fig, '../plots/2_1_plot.png', scale=2, format='png', engine='kaleido')\n",
    "\n",
    "# # Optionally, display the static images\n",
    "# display(Image(filename='../plots/2_1_plot.png', width=800, height=600))\n",
    "# avg_ratings_per_region.style.hide()\n",
    "\n",
    "article = Article()\n",
    "article.title = Article.md_title_only(\"2. Reviews Analysis\")\n",
    "article.export()\n",
    "\n",
    "article = Article()\n",
    "article.title = \"2.1. Number of Reviews per hotel\"\n",
    "article.body = \"Bar chart showing the total number of reviews for each hotel.\"\n",
    "imgname = article.get_uid() + \".png\"\n",
    "pio.write_image(fig, IMAGE_SAVE_PATH + imgname, scale=2, format='png', engine='kaleido')\n",
    "article.body += \"\\n\\n\" + Article.md_img_str(imgname)\n",
    "article.export()"
   ]
  },
  {
   "cell_type": "markdown",
   "metadata": {},
   "source": [
    "### 2.2. Review Count Comparison\n",
    "\n",
    "Bar chart comparing the number of reviews between regions."
   ]
  },
  {
   "cell_type": "code",
   "execution_count": 119,
   "metadata": {},
   "outputs": [
    {
     "data": {
      "text/plain": [
       "'Title: 2.2 Review Count Comparison\\nDate: 2024-10-11 00:53\\nCategory: L1\\n\\nBar chart comparing the number of reviews between regions.\\n\\n![](../images/L1_06.png)\\n\\n\\n'"
      ]
     },
     "execution_count": 119,
     "metadata": {},
     "output_type": "execute_result"
    }
   ],
   "source": [
    "# Calculate review count per region\n",
    "review_count_region = df['region'].value_counts()\n",
    "\n",
    "# Create a bar chart with Plotly\n",
    "fig_bar = go.Figure()\n",
    "\n",
    "fig_bar.add_trace(go.Bar(\n",
    "    x=review_count_region.index,\n",
    "    y=review_count_region.values,\n",
    "    marker_color=color_palette[7:],\n",
    "    name='Review Count'\n",
    "))\n",
    "\n",
    "fig_bar.update_layout(\n",
    "    # title_text='Review Count per Region',\n",
    "    title_x=0.5,\n",
    "    xaxis_title='Region',\n",
    "    yaxis_title='Number of Reviews',\n",
    "    plot_bgcolor='rgba(0,0,0,0)',\n",
    "    paper_bgcolor='rgba(0,0,0,0)',\n",
    "    font=dict(\n",
    "        family=\"Arial, sans-serif\",\n",
    "        size=16,\n",
    "        color=\"#000000\"\n",
    "    ),\n",
    "    xaxis_tickangle=45\n",
    ")\n",
    "\n",
    "# Show the bar chart\n",
    "# fig_bar.show()\n",
    "\n",
    "# Save the figure as a static image with transparent background\n",
    "# pio.write_image(fig_bar, '../plots/2_2_plot.png', scale=2, format='png', engine='kaleido')\n",
    "\n",
    "# Optionally, display the static images\n",
    "# display(Image(filename='../plots/2_2_plot.png', width=800, height=600))\n",
    "\n",
    "article = Article()\n",
    "article.title = \"2.2 Review Count Comparison\"\n",
    "article.body = \"Bar chart comparing the number of reviews between regions.\"\n",
    "imgname = article.get_uid() + \".png\"\n",
    "pio.write_image(fig_bar, IMAGE_SAVE_PATH + imgname, scale=2, format='png', engine='kaleido')\n",
    "article.body += \"\\n\\n\" + Article.md_img_str(imgname)\n",
    "article.export()"
   ]
  },
  {
   "cell_type": "markdown",
   "metadata": {},
   "source": [
    "### 2.2. Review count over time \n",
    "\n",
    "Line chart showing the number of reviews over time to identify trends."
   ]
  },
  {
   "cell_type": "code",
   "execution_count": 120,
   "metadata": {},
   "outputs": [
    {
     "data": {
      "text/plain": [
       "'Title: 2.2. Review count over time \\nDate: 2024-10-11 00:52\\nCategory: L1\\n\\nLine chart showing the number of reviews over time to identify trends.\\n\\n![](../images/L1_07.png)\\n\\n|    | Review Period   |   Number of Reviews |   Percentage |\\n|---:|:----------------|--------------------:|-------------:|\\n|  0 | < 2016          |                 538 |      1.68784 |\\n|  1 | 2016-2020       |                7045 |     22.102   |\\n|  2 | 2020-2022       |                3589 |     11.2596  |\\n|  3 | 2022-2024       |                7398 |     23.2094  |\\n|  4 | > 2024          |               13305 |     41.7412  |\\n\\n\\n'"
      ]
     },
     "execution_count": 120,
     "metadata": {},
     "output_type": "execute_result"
    }
   ],
   "source": [
    "# Assuming df is already defined\n",
    "# Convert days to actual date\n",
    "current_date = datetime(2024, 7, 20)\n",
    "df['review_date'] = df['review_date_in_days'].apply(lambda x: current_date - timedelta(days=x))\n",
    "\n",
    "# Review Count Over Time\n",
    "review_count_over_time = df.groupby(df['review_date'].dt.to_period('M')).size()\n",
    "review_count_over_time = review_count_over_time.to_timestamp()\n",
    "\n",
    "# Plot review count over time with Plotly\n",
    "fig_line = go.Figure()\n",
    "\n",
    "fig_line.add_trace(go.Scatter(\n",
    "    x=review_count_over_time.index,\n",
    "    y=review_count_over_time.values,\n",
    "    mode='lines+markers',\n",
    "    marker=dict(color='#636EFA'),  # Example color\n",
    "    line=dict(color='#636EFA'),    # Example color\n",
    "    name='Review Count'\n",
    "))\n",
    "\n",
    "fig_line.update_layout(\n",
    "    title_x=0.5,\n",
    "    xaxis_title='Time',\n",
    "    yaxis_title='Number of Reviews',\n",
    "    plot_bgcolor='rgba(0,0,0,0)',\n",
    "    paper_bgcolor='rgba(0,0,0,0)',\n",
    "    font=dict(\n",
    "        family=\"Arial, sans-serif\",\n",
    "        size=12,\n",
    "        color=\"#000000\"\n",
    "    ),\n",
    "    xaxis=dict(showgrid=True),\n",
    "    yaxis=dict(showgrid=True)\n",
    ")\n",
    "\n",
    "# Save the figure as a static image with transparent background\n",
    "# pio.write_image(fig_line, '../plots/2_3_plot.png', scale=2, format='png', engine='kaleido')\n",
    "\n",
    "# Define the time ranges and labels\n",
    "bins = [datetime(1970, 1, 1), datetime(2016, 1, 1), datetime(2020, 1, 1), datetime(2022, 1, 1), datetime(2024, 1, 1), datetime(2025, 1, 1)]\n",
    "labels = ['< 2016', '2016-2020', '2020-2022', '2022-2024', '> 2024']\n",
    "\n",
    "# Categorize the review dates into the defined ranges\n",
    "df['review_period'] = pd.cut(df['review_date'], bins=bins, labels=labels, include_lowest=True)\n",
    "\n",
    "# Calculate the count and percentage of reviews for each category\n",
    "review_counts = df['review_period'].value_counts().sort_index()\n",
    "review_percentages = (review_counts / review_counts.sum()) * 100\n",
    "\n",
    "# Create a DataFrame with the results\n",
    "review_summary_df = pd.DataFrame({\n",
    "    'Review Period': review_counts.index,\n",
    "    'Number of Reviews': review_counts.values,\n",
    "    'Percentage': review_percentages.values\n",
    "})\n",
    "\n",
    "# Define the HTML template to display the image and the table side by side\n",
    "# html_template = '''\n",
    "# <div style=\"display: flex; align-items: center;\">\n",
    "#     <div style=\"flex: 1;\">\n",
    "#         <img src=\"{img_path}\" width=\"{img_width}\" height=\"{img_height}\">\n",
    "#     </div>\n",
    "#     <div style=\"flex: 1; padding-left: 20px;\">\n",
    "#         {table}\n",
    "#     </div>\n",
    "# </div>\n",
    "# '''\n",
    "\n",
    "# # Generate the HTML content\n",
    "# html_content = html_template.format(\n",
    "#     img_path='../plots/2_3_plot.png',\n",
    "#     img_width=600,  # Adjust the width and height as needed\n",
    "#     img_height=400,\n",
    "#     table=review_summary_df.to_html(index=False)\n",
    "# )\n",
    "\n",
    "# # Display the content\n",
    "# display(HTML(html_content))\n",
    "\n",
    "\n",
    "article = Article()\n",
    "article.title = \"2.2. Review count over time \"\n",
    "article.body = \"Line chart showing the number of reviews over time to identify trends.\"\n",
    "imgname = article.get_uid() + \".png\"\n",
    "pio.write_image(fig_line, IMAGE_SAVE_PATH + imgname, scale=2, format='png', engine='kaleido')\n",
    "article.body += \"\\n\\n\" + Article.md_img_str(imgname)\n",
    "article.body += \"\\n\\n\" + Article.md_tab_str(review_summary_df)\n",
    "article.export()"
   ]
  },
  {
   "cell_type": "markdown",
   "metadata": {},
   "source": [
    "## 3. Language Ananlysis"
   ]
  },
  {
   "cell_type": "markdown",
   "metadata": {},
   "source": [
    "### 3.1 Language Distribution\n",
    "Pie chart showing the distribution of review languages."
   ]
  },
  {
   "cell_type": "code",
   "execution_count": 121,
   "metadata": {},
   "outputs": [
    {
     "data": {
      "text/plain": [
       "'Title: 3.1 Language Distribution\\nDate: 2024-10-11 00:50\\nCategory: L1\\n\\nPie chart showing the distribution of review languages.\\n\\n![](../images/L1_09.png)\\n\\n|    | Review Period   |   Number of Reviews |   Percentage |\\n|---:|:----------------|--------------------:|-------------:|\\n|  0 | < 2016          |                 538 |      1.68784 |\\n|  1 | 2016-2020       |                7045 |     22.102   |\\n|  2 | 2020-2022       |                3589 |     11.2596  |\\n|  3 | 2022-2024       |                7398 |     23.2094  |\\n|  4 | > 2024          |               13305 |     41.7412  |\\n\\n\\n'"
      ]
     },
     "execution_count": 121,
     "metadata": {},
     "output_type": "execute_result"
    }
   ],
   "source": [
    "# Calculate language distribution\n",
    "language_dist = df['review_language'].value_counts()\n",
    "\n",
    "# Calculate the threshold for \"Others\"\n",
    "total_reviews = language_dist.sum()\n",
    "threshold = total_reviews * 0.01\n",
    "\n",
    "# Separate languages above and below the threshold\n",
    "large_languages = language_dist[language_dist >= threshold]\n",
    "small_languages = language_dist[language_dist < threshold]\n",
    "\n",
    "# Combine small languages into \"Others\"\n",
    "if small_languages.sum() > 0:\n",
    "    large_languages['others'] = small_languages.sum()\n",
    "\n",
    "# Plot the pie chart with Plotly\n",
    "fig_pie = px.pie(\n",
    "    large_languages,\n",
    "    names=large_languages.index,\n",
    "    values=large_languages.values,\n",
    "    # title='Distribution of Review Languages',\n",
    "    color_discrete_sequence=color_palette[8:]\n",
    ")\n",
    "\n",
    "fig_pie.update_traces(textposition='inside', textinfo='percent+label')\n",
    "\n",
    "fig_pie.update_layout(\n",
    "    # title_text='Distribution of Review Languages',\n",
    "    title_x=0.5,\n",
    "    width=800,  # Set the width of the plot\n",
    "    height=600,\n",
    "    paper_bgcolor='rgba(0,0,0,0)',\n",
    "    plot_bgcolor='rgba(0,0,0,0)',\n",
    "    font=dict(\n",
    "        family=\"Arial, sans-serif\",\n",
    "        size=12,\n",
    "        color=\"#000000\"\n",
    "    )\n",
    ")\n",
    "\n",
    "# Show the pie chart\n",
    "# fig_pie.show()\n",
    "\n",
    "# Save the figure as a static image with transparent background\n",
    "# pio.write_image(fig_pie, '../plots/3_2_plot.png', scale=2, format='png', engine='kaleido')\n",
    "\n",
    "# Optionally, display the static images\n",
    "# display(Image(filename='../plots/3_2_plot.png', width=800, height=600))\n",
    "\n",
    "article = Article()\n",
    "article.title = Article.md_title_only(\"3. Language Analysis\")\n",
    "article.export()\n",
    "\n",
    "article = Article()\n",
    "article.title = \"3.1 Language Distribution\"\n",
    "article.body = \"Pie chart showing the distribution of review languages.\"\n",
    "imgname = article.get_uid() + \".png\"\n",
    "pio.write_image(fig_pie, IMAGE_SAVE_PATH + imgname, scale=2, format='png', engine='kaleido')\n",
    "article.body += \"\\n\\n\" + Article.md_img_str(imgname)\n",
    "article.body += \"\\n\\n\" + Article.md_tab_str(review_summary_df)\n",
    "article.export()"
   ]
  },
  {
   "cell_type": "markdown",
   "metadata": {},
   "source": [
    "## 4. Business Status Analysis\n",
    "\n",
    "### 4.1. Business Status Distribution\n",
    "\n",
    "Pie chart showing the distribution of business status (open, closed, etc.).\n"
   ]
  },
  {
   "cell_type": "code",
   "execution_count": 122,
   "metadata": {},
   "outputs": [
    {
     "data": {
      "text/plain": [
       "'Title: 4.1 Business Status Distribution\\nDate: 2024-10-11 00:48\\nCategory: L1\\n\\nPie chart showing the distribution of business status (open, closed, etc).\\n\\n![](../images/L1_11.png)\\n\\n\\n'"
      ]
     },
     "execution_count": 122,
     "metadata": {},
     "output_type": "execute_result"
    }
   ],
   "source": [
    "# Calculate business status distribution\n",
    "business_status_dist = df['business_status'].value_counts()\n",
    "\n",
    "# Plot the pie chart with Plotly\n",
    "fig_pie = px.pie(\n",
    "    business_status_dist,\n",
    "    names=business_status_dist.index,\n",
    "    values=business_status_dist.values,\n",
    "    # title='Distribution of Business Status',\n",
    "    color_discrete_sequence=[color_palette[10], color_palette[14]]\n",
    ")\n",
    "\n",
    "fig_pie.update_traces(textposition='inside', textinfo='percent+label')\n",
    "\n",
    "fig_pie.update_layout(\n",
    "    # title_text='Distribution of Business Status',\n",
    "    title_x=0.5,\n",
    "    width=800,  # Set the width of the plot\n",
    "    height=800,  # Set the height of the plot\n",
    "    paper_bgcolor='rgba(0,0,0,0)',\n",
    "    plot_bgcolor='rgba(0,0,0,0)',\n",
    "    font=dict(\n",
    "        family=\"Arial, sans-serif\",\n",
    "        size=12,\n",
    "        color=\"#000000\"\n",
    "    )\n",
    ")\n",
    "\n",
    "# Show the pie chart\n",
    "# fig_pie.show()\n",
    "\n",
    "# Save the figure as a static image with transparent background\n",
    "# pio.write_image(fig_pie, '../plots/5_1_plot.png', scale=2, format='png', engine='kaleido')\n",
    "\n",
    "# Optionally, display the static images\n",
    "# display(Image(filename='../plots/5_1_plot.png', width=800, height=600))\n",
    "\n",
    "\n",
    "\n",
    "article = Article()\n",
    "article.title = Article.md_title_only(\"4. Business Status Analysis\")\n",
    "article.export()\n",
    "\n",
    "article = Article()\n",
    "article.title = \"4.1 Business Status Distribution\"\n",
    "article.body = \"Pie chart showing the distribution of business status (open, closed, etc).\"\n",
    "imgname = article.get_uid() + \".png\"\n",
    "pio.write_image(fig_pie, IMAGE_SAVE_PATH + imgname, scale=2, format='png', engine='kaleido')\n",
    "article.body += \"\\n\\n\" + Article.md_img_str(imgname)\n",
    "# article.body += \"\\n\\n\" + Article.md_tab_str(review_summary_df)\n",
    "article.export()\n"
   ]
  }
 ],
 "metadata": {
  "kernelspec": {
   "display_name": "base",
   "language": "python",
   "name": "python3"
  },
  "language_info": {
   "codemirror_mode": {
    "name": "ipython",
    "version": 3
   },
   "file_extension": ".py",
   "mimetype": "text/x-python",
   "name": "python",
   "nbconvert_exporter": "python",
   "pygments_lexer": "ipython3",
   "version": "3.12.4"
  }
 },
 "nbformat": 4,
 "nbformat_minor": 2
}
