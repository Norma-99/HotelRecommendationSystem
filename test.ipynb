{
 "cells": [
  {
   "cell_type": "code",
   "execution_count": 4,
   "metadata": {},
   "outputs": [
    {
     "name": "stdout",
     "output_type": "stream",
     "text": [
      "The number of characters in the JSON file is: 46725000\n"
     ]
    }
   ],
   "source": [
    "import json\n",
    "\n",
    "# Step 1: Read the JSON file\n",
    "with open('Andorra la Vella_2024-07-20.json', 'r') as file:\n",
    "    json_data = json.load(file)\n",
    "\n",
    "# Step 2: Convert JSON data to a string\n",
    "json_string = json.dumps(json_data)\n",
    "\n",
    "# Step 3: Count the number of characters in the string\n",
    "num_characters = len(json_string)\n",
    "\n",
    "total = num_characters * 35000\n",
    "\n",
    "print(f\"The number of characters in the JSON file is: {total}\")"
   ]
  }
 ],
 "metadata": {
  "kernelspec": {
   "display_name": "Python 3",
   "language": "python",
   "name": "python3"
  },
  "language_info": {
   "codemirror_mode": {
    "name": "ipython",
    "version": 3
   },
   "file_extension": ".py",
   "mimetype": "text/x-python",
   "name": "python",
   "nbconvert_exporter": "python",
   "pygments_lexer": "ipython3",
   "version": "3.8.10"
  }
 },
 "nbformat": 4,
 "nbformat_minor": 2
}
